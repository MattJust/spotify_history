{
 "cells": [
  {
   "cell_type": "code",
   "execution_count": 87,
   "metadata": {},
   "outputs": [],
   "source": [
    "#Import the usual suspects\n",
    "import json\n",
    "import pandas as pd\n",
    "from datetime import datetime"
   ]
  },
  {
   "cell_type": "code",
   "execution_count": 88,
   "metadata": {},
   "outputs": [],
   "source": [
    "# Opening JSON file \n",
    "f = open('StreamingHistory0.json',) \n",
    "  \n",
    "# return JSON object as a dictionary \n",
    "spot_data = json.load(f) \n",
    "\n",
    "# Close file \n",
    "f.close() "
   ]
  },
  {
   "cell_type": "code",
   "execution_count": 90,
   "metadata": {},
   "outputs": [],
   "source": [
    "# make a DataFrame\n",
    "df = pd.DataFrame.from_dict(data=spot_data, orient='columns', dtype=None, columns=None) "
   ]
  },
  {
   "cell_type": "code",
   "execution_count": 91,
   "metadata": {},
   "outputs": [
    {
     "data": {
      "text/html": [
       "<div>\n",
       "<style scoped>\n",
       "    .dataframe tbody tr th:only-of-type {\n",
       "        vertical-align: middle;\n",
       "    }\n",
       "\n",
       "    .dataframe tbody tr th {\n",
       "        vertical-align: top;\n",
       "    }\n",
       "\n",
       "    .dataframe thead th {\n",
       "        text-align: right;\n",
       "    }\n",
       "</style>\n",
       "<table border=\"1\" class=\"dataframe\">\n",
       "  <thead>\n",
       "    <tr style=\"text-align: right;\">\n",
       "      <th></th>\n",
       "      <th>endTime</th>\n",
       "      <th>artistName</th>\n",
       "      <th>trackName</th>\n",
       "      <th>msPlayed</th>\n",
       "    </tr>\n",
       "  </thead>\n",
       "  <tbody>\n",
       "    <tr>\n",
       "      <th>0</th>\n",
       "      <td>2019-05-21 19:35</td>\n",
       "      <td>Far Out</td>\n",
       "      <td>Chains</td>\n",
       "      <td>40809</td>\n",
       "    </tr>\n",
       "    <tr>\n",
       "      <th>1</th>\n",
       "      <td>2019-06-10 20:34</td>\n",
       "      <td>Lauren Dair</td>\n",
       "      <td>Every Little Light</td>\n",
       "      <td>175007</td>\n",
       "    </tr>\n",
       "    <tr>\n",
       "      <th>2</th>\n",
       "      <td>2019-06-10 20:38</td>\n",
       "      <td>Lauren Dair</td>\n",
       "      <td>Lines</td>\n",
       "      <td>204635</td>\n",
       "    </tr>\n",
       "    <tr>\n",
       "      <th>3</th>\n",
       "      <td>2019-06-26 20:32</td>\n",
       "      <td>Mary J. Blige</td>\n",
       "      <td>Real Love</td>\n",
       "      <td>269973</td>\n",
       "    </tr>\n",
       "    <tr>\n",
       "      <th>4</th>\n",
       "      <td>2019-06-26 20:33</td>\n",
       "      <td>New Kids On The Block</td>\n",
       "      <td>Tonight</td>\n",
       "      <td>24861</td>\n",
       "    </tr>\n",
       "    <tr>\n",
       "      <th>...</th>\n",
       "      <td>...</td>\n",
       "      <td>...</td>\n",
       "      <td>...</td>\n",
       "      <td>...</td>\n",
       "    </tr>\n",
       "    <tr>\n",
       "      <th>5240</th>\n",
       "      <td>2020-06-02 20:51</td>\n",
       "      <td>Låpsley</td>\n",
       "      <td>Ligne 3</td>\n",
       "      <td>196420</td>\n",
       "    </tr>\n",
       "    <tr>\n",
       "      <th>5241</th>\n",
       "      <td>2020-06-02 20:52</td>\n",
       "      <td>Låpsley</td>\n",
       "      <td>Leeds Liverpool Canal</td>\n",
       "      <td>23614</td>\n",
       "    </tr>\n",
       "    <tr>\n",
       "      <th>5242</th>\n",
       "      <td>2020-06-02 20:55</td>\n",
       "      <td>Låpsley</td>\n",
       "      <td>Sadness is a Shade of Blue</td>\n",
       "      <td>217813</td>\n",
       "    </tr>\n",
       "    <tr>\n",
       "      <th>5243</th>\n",
       "      <td>2020-06-02 20:56</td>\n",
       "      <td>Låpsley</td>\n",
       "      <td>Womxn</td>\n",
       "      <td>68872</td>\n",
       "    </tr>\n",
       "    <tr>\n",
       "      <th>5244</th>\n",
       "      <td>2020-06-02 20:58</td>\n",
       "      <td>Låpsley</td>\n",
       "      <td>Station (2014)</td>\n",
       "      <td>111432</td>\n",
       "    </tr>\n",
       "  </tbody>\n",
       "</table>\n",
       "<p>5245 rows × 4 columns</p>\n",
       "</div>"
      ],
      "text/plain": [
       "               endTime             artistName                   trackName  \\\n",
       "0     2019-05-21 19:35                Far Out                      Chains   \n",
       "1     2019-06-10 20:34            Lauren Dair          Every Little Light   \n",
       "2     2019-06-10 20:38            Lauren Dair                       Lines   \n",
       "3     2019-06-26 20:32          Mary J. Blige                   Real Love   \n",
       "4     2019-06-26 20:33  New Kids On The Block                     Tonight   \n",
       "...                ...                    ...                         ...   \n",
       "5240  2020-06-02 20:51                Låpsley                     Ligne 3   \n",
       "5241  2020-06-02 20:52                Låpsley       Leeds Liverpool Canal   \n",
       "5242  2020-06-02 20:55                Låpsley  Sadness is a Shade of Blue   \n",
       "5243  2020-06-02 20:56                Låpsley                       Womxn   \n",
       "5244  2020-06-02 20:58                Låpsley              Station (2014)   \n",
       "\n",
       "      msPlayed  \n",
       "0        40809  \n",
       "1       175007  \n",
       "2       204635  \n",
       "3       269973  \n",
       "4        24861  \n",
       "...        ...  \n",
       "5240    196420  \n",
       "5241     23614  \n",
       "5242    217813  \n",
       "5243     68872  \n",
       "5244    111432  \n",
       "\n",
       "[5245 rows x 4 columns]"
      ]
     },
     "execution_count": 91,
     "metadata": {},
     "output_type": "execute_result"
    }
   ],
   "source": [
    "# check out said DataFrame\n",
    "df"
   ]
  },
  {
   "cell_type": "code",
   "execution_count": 92,
   "metadata": {},
   "outputs": [
    {
     "name": "stdout",
     "output_type": "stream",
     "text": [
      "<class 'pandas.core.frame.DataFrame'>\n",
      "RangeIndex: 5245 entries, 0 to 5244\n",
      "Data columns (total 4 columns):\n",
      " #   Column      Non-Null Count  Dtype \n",
      "---  ------      --------------  ----- \n",
      " 0   endTime     5245 non-null   object\n",
      " 1   artistName  5245 non-null   object\n",
      " 2   trackName   5245 non-null   object\n",
      " 3   msPlayed    5245 non-null   int64 \n",
      "dtypes: int64(1), object(3)\n",
      "memory usage: 164.0+ KB\n"
     ]
    }
   ],
   "source": [
    "# Let's see what's going on\n",
    "df.info()"
   ]
  },
  {
   "cell_type": "code",
   "execution_count": 93,
   "metadata": {},
   "outputs": [],
   "source": [
    "#import visualization libraries\n",
    "import seaborn as sns\n",
    "import matplotlib.pyplot as plt\n",
    "%matplotlib inline"
   ]
  },
  {
   "cell_type": "code",
   "execution_count": 94,
   "metadata": {},
   "outputs": [
    {
     "data": {
      "text/plain": [
       "1627483435"
      ]
     },
     "execution_count": 94,
     "metadata": {},
     "output_type": "execute_result"
    }
   ],
   "source": [
    "# I spent a lot of milliseconds listening to Spotify!\n",
    "df.msPlayed.sum()"
   ]
  },
  {
   "cell_type": "code",
   "execution_count": 95,
   "metadata": {},
   "outputs": [
    {
     "data": {
      "text/plain": [
       "27124.723916666662"
      ]
     },
     "execution_count": 95,
     "metadata": {},
     "output_type": "execute_result"
    }
   ],
   "source": [
    "# That's a lot of minutes, for only a few months\n",
    "df['min_played'] = df.msPlayed.apply(lambda min: min/1000/60)\n",
    "df['min_played'].sum()"
   ]
  },
  {
   "cell_type": "code",
   "execution_count": 96,
   "metadata": {},
   "outputs": [
    {
     "data": {
      "text/plain": [
       "74.3143121004566"
      ]
     },
     "execution_count": 96,
     "metadata": {},
     "output_type": "execute_result"
    }
   ],
   "source": [
    "# per day, that's a full cd's worth of listening.\n",
    "df['min_played'].sum()/365"
   ]
  },
  {
   "cell_type": "code",
   "execution_count": 97,
   "metadata": {},
   "outputs": [
    {
     "data": {
      "text/plain": [
       "1319"
      ]
     },
     "execution_count": 97,
     "metadata": {},
     "output_type": "execute_result"
    }
   ],
   "source": [
    "#I listened to a lot of artists!\n",
    "df.artistName.nunique()"
   ]
  },
  {
   "cell_type": "code",
   "execution_count": 116,
   "metadata": {},
   "outputs": [
    {
     "data": {
      "text/plain": [
       "The Coronavirus Newscast               127\n",
       "Taylor Swift                           102\n",
       "Rolling Stone Music Now                 77\n",
       "How Did This Get Made?                  73\n",
       "Unknown Artist                          68\n",
       "MUNA                                    64\n",
       "The Writers Panel                       59\n",
       "Switched on Pop                         56\n",
       "Billie Eilish                           51\n",
       "Radiolab                                50\n",
       "CHVRCHES                                49\n",
       "Andy Shauf                              47\n",
       "Beck                                    46\n",
       "Unspooled                               46\n",
       "Bombay Bicycle Club                     46\n",
       "Hania Rani                              45\n",
       "Crazy Ex-Girlfriend Cast                44\n",
       "Fleetwood Mac                           44\n",
       "Sodajerker On Songwriting               43\n",
       "Halsey                                  42\n",
       "And The Writer Is...with Ross Golan     41\n",
       "Selena Gomez                            41\n",
       "Tara Brach                              41\n",
       "Wye Oak                                 40\n",
       "The Topical                             37\n",
       "Name: artistName, dtype: int64"
      ]
     },
     "execution_count": 116,
     "metadata": {},
     "output_type": "execute_result"
    }
   ],
   "source": [
    "# my top 20 - lots of podcasts!\n",
    "df.artistName.value_counts().head(20)"
   ]
  },
  {
   "cell_type": "code",
   "execution_count": 98,
   "metadata": {},
   "outputs": [],
   "source": [
    "# let's convert our date column is in the right format\n",
    "df['endTime'] = pd.to_datetime(df['endTime']) "
   ]
  },
  {
   "cell_type": "code",
   "execution_count": 110,
   "metadata": {},
   "outputs": [
    {
     "data": {
      "text/html": [
       "<div>\n",
       "<style scoped>\n",
       "    .dataframe tbody tr th:only-of-type {\n",
       "        vertical-align: middle;\n",
       "    }\n",
       "\n",
       "    .dataframe tbody tr th {\n",
       "        vertical-align: top;\n",
       "    }\n",
       "\n",
       "    .dataframe thead th {\n",
       "        text-align: right;\n",
       "    }\n",
       "</style>\n",
       "<table border=\"1\" class=\"dataframe\">\n",
       "  <thead>\n",
       "    <tr style=\"text-align: right;\">\n",
       "      <th></th>\n",
       "      <th>endTime</th>\n",
       "      <th>artistName</th>\n",
       "      <th>trackName</th>\n",
       "      <th>msPlayed</th>\n",
       "      <th>min_played</th>\n",
       "    </tr>\n",
       "  </thead>\n",
       "  <tbody>\n",
       "    <tr>\n",
       "      <th>0</th>\n",
       "      <td>2019-05-21 19:35:00</td>\n",
       "      <td>Far Out</td>\n",
       "      <td>Chains</td>\n",
       "      <td>40809</td>\n",
       "      <td>0.680150</td>\n",
       "    </tr>\n",
       "    <tr>\n",
       "      <th>1</th>\n",
       "      <td>2019-06-10 20:34:00</td>\n",
       "      <td>Lauren Dair</td>\n",
       "      <td>Every Little Light</td>\n",
       "      <td>175007</td>\n",
       "      <td>2.916783</td>\n",
       "    </tr>\n",
       "    <tr>\n",
       "      <th>2</th>\n",
       "      <td>2019-06-10 20:38:00</td>\n",
       "      <td>Lauren Dair</td>\n",
       "      <td>Lines</td>\n",
       "      <td>204635</td>\n",
       "      <td>3.410583</td>\n",
       "    </tr>\n",
       "    <tr>\n",
       "      <th>3</th>\n",
       "      <td>2019-06-26 20:32:00</td>\n",
       "      <td>Mary J. Blige</td>\n",
       "      <td>Real Love</td>\n",
       "      <td>269973</td>\n",
       "      <td>4.499550</td>\n",
       "    </tr>\n",
       "    <tr>\n",
       "      <th>4</th>\n",
       "      <td>2019-06-26 20:33:00</td>\n",
       "      <td>New Kids On The Block</td>\n",
       "      <td>Tonight</td>\n",
       "      <td>24861</td>\n",
       "      <td>0.414350</td>\n",
       "    </tr>\n",
       "    <tr>\n",
       "      <th>5</th>\n",
       "      <td>2019-06-26 20:37:00</td>\n",
       "      <td>Bobby Brown</td>\n",
       "      <td>Rock Wit'cha</td>\n",
       "      <td>289533</td>\n",
       "      <td>4.825550</td>\n",
       "    </tr>\n",
       "    <tr>\n",
       "      <th>6</th>\n",
       "      <td>2019-06-26 20:43:00</td>\n",
       "      <td>Oasis</td>\n",
       "      <td>Wonderwall - Remastered</td>\n",
       "      <td>258732</td>\n",
       "      <td>4.312200</td>\n",
       "    </tr>\n",
       "    <tr>\n",
       "      <th>7</th>\n",
       "      <td>2019-06-26 20:49:00</td>\n",
       "      <td>Prince</td>\n",
       "      <td>When Doves Cry</td>\n",
       "      <td>352906</td>\n",
       "      <td>5.881767</td>\n",
       "    </tr>\n",
       "    <tr>\n",
       "      <th>8</th>\n",
       "      <td>2019-06-26 20:52:00</td>\n",
       "      <td>Cocteau Twins</td>\n",
       "      <td>Cherry-coloured Funk</td>\n",
       "      <td>192466</td>\n",
       "      <td>3.207767</td>\n",
       "    </tr>\n",
       "    <tr>\n",
       "      <th>9</th>\n",
       "      <td>2019-06-26 21:00:00</td>\n",
       "      <td>Tears For Fears</td>\n",
       "      <td>Sowing The Seeds Of Love</td>\n",
       "      <td>376733</td>\n",
       "      <td>6.278883</td>\n",
       "    </tr>\n",
       "  </tbody>\n",
       "</table>\n",
       "</div>"
      ],
      "text/plain": [
       "              endTime             artistName                 trackName  \\\n",
       "0 2019-05-21 19:35:00                Far Out                    Chains   \n",
       "1 2019-06-10 20:34:00            Lauren Dair        Every Little Light   \n",
       "2 2019-06-10 20:38:00            Lauren Dair                     Lines   \n",
       "3 2019-06-26 20:32:00          Mary J. Blige                 Real Love   \n",
       "4 2019-06-26 20:33:00  New Kids On The Block                   Tonight   \n",
       "5 2019-06-26 20:37:00            Bobby Brown              Rock Wit'cha   \n",
       "6 2019-06-26 20:43:00                  Oasis   Wonderwall - Remastered   \n",
       "7 2019-06-26 20:49:00                 Prince            When Doves Cry   \n",
       "8 2019-06-26 20:52:00          Cocteau Twins      Cherry-coloured Funk   \n",
       "9 2019-06-26 21:00:00        Tears For Fears  Sowing The Seeds Of Love   \n",
       "\n",
       "   msPlayed  min_played  \n",
       "0     40809    0.680150  \n",
       "1    175007    2.916783  \n",
       "2    204635    3.410583  \n",
       "3    269973    4.499550  \n",
       "4     24861    0.414350  \n",
       "5    289533    4.825550  \n",
       "6    258732    4.312200  \n",
       "7    352906    5.881767  \n",
       "8    192466    3.207767  \n",
       "9    376733    6.278883  "
      ]
     },
     "execution_count": 110,
     "metadata": {},
     "output_type": "execute_result"
    }
   ],
   "source": [
    "df.head(10)"
   ]
  },
  {
   "cell_type": "code",
   "execution_count": 100,
   "metadata": {},
   "outputs": [
    {
     "name": "stdout",
     "output_type": "stream",
     "text": [
      "<class 'pandas.core.frame.DataFrame'>\n",
      "RangeIndex: 5245 entries, 0 to 5244\n",
      "Data columns (total 5 columns):\n",
      " #   Column      Non-Null Count  Dtype         \n",
      "---  ------      --------------  -----         \n",
      " 0   endTime     5245 non-null   datetime64[ns]\n",
      " 1   artistName  5245 non-null   object        \n",
      " 2   trackName   5245 non-null   object        \n",
      " 3   msPlayed    5245 non-null   int64         \n",
      " 4   min_played  5245 non-null   float64       \n",
      "dtypes: datetime64[ns](1), float64(1), int64(1), object(2)\n",
      "memory usage: 205.0+ KB\n"
     ]
    }
   ],
   "source": [
    "df.info()"
   ]
  },
  {
   "cell_type": "code",
   "execution_count": 121,
   "metadata": {},
   "outputs": [
    {
     "data": {
      "text/plain": [
       "<matplotlib.axes._subplots.AxesSubplot at 0x1a25619ad0>"
      ]
     },
     "execution_count": 121,
     "metadata": {},
     "output_type": "execute_result"
    },
    {
     "data": {
      "image/png": "[encoded data removed]",
      "text/plain": [
       "<Figure size 864x288 with 1 Axes>"
      ]
     },
     "metadata": {
      "needs_background": "light"
     },
     "output_type": "display_data"
    }
   ],
   "source": [
    "plt.figure(figsize=(12,4))\n",
    "sns.lineplot(x='endTime',y='min_played',data=df)"
   ]
  },
  {
   "cell_type": "code",
   "execution_count": null,
   "metadata": {},
   "outputs": [],
   "source": []
  }
 ],
 "metadata": {
  "kernelspec": {
   "display_name": "Python 3",
   "language": "python",
   "name": "python3"
  },
  "language_info": {
   "codemirror_mode": {
    "name": "ipython",
    "version": 3
   },
   "file_extension": ".py",
   "mimetype": "text/x-python",
   "name": "python",
   "nbconvert_exporter": "python",
   "pygments_lexer": "ipython3",
   "version": "3.7.6"
  }
 },
 "nbformat": 4,
 "nbformat_minor": 4
}
